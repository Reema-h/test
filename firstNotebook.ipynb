{
  "nbformat": 4,
  "nbformat_minor": 0,
  "metadata": {
    "colab": {
      "provenance": [],
      "authorship_tag": "ABX9TyN6DS7vVQWNVrf1I+VJ66+y",
      "include_colab_link": true
    },
    "kernelspec": {
      "name": "python3",
      "display_name": "Python 3"
    },
    "language_info": {
      "name": "python"
    }
  },
  "cells": [
    {
      "cell_type": "markdown",
      "metadata": {
        "id": "view-in-github",
        "colab_type": "text"
      },
      "source": [
        "<a href=\"https://colab.research.google.com/github/Reema-h/test/blob/main/firstNotebook.ipynb\" target=\"_parent\"><img src=\"https://colab.research.google.com/assets/colab-badge.svg\" alt=\"Open In Colab\"/></a>"
      ]
    },
    {
      "cell_type": "code",
      "execution_count": 2,
      "metadata": {
        "colab": {
          "base_uri": "https://localhost:8080/"
        },
        "id": "riOUg7AVdScM",
        "outputId": "495562d8-735b-4a3c-f1fa-8e159cdae6fd"
      },
      "outputs": [
        {
          "output_type": "stream",
          "name": "stdout",
          "text": [
            "2\n"
          ]
        }
      ],
      "source": [
        "x= 2\n",
        "print(x)"
      ]
    },
    {
      "cell_type": "code",
      "source": [],
      "metadata": {
        "id": "DKw2u4oOy_du"
      },
      "execution_count": 1,
      "outputs": []
    },
    {
      "cell_type": "markdown",
      "source": [
        "## Reema\n",
        "[My LinkedIn](https://www.linkedin.com/in/reema-bin-eid/)\n",
        "\n",
        "**done** ✅"
      ],
      "metadata": {
        "id": "l5lihzNB0zqx"
      }
    },
    {
      "cell_type": "code",
      "source": [],
      "metadata": {
        "id": "0Xzjqrs70-VP"
      },
      "execution_count": null,
      "outputs": []
    }
  ]
}